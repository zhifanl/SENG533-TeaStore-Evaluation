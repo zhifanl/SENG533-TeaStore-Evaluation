{
 "cells": [
  {
   "cell_type": "code",
   "execution_count": 3,
   "metadata": {},
   "outputs": [],
   "source": [
    "import pandas as pd\n",
    "import numpy as np\n"
   ]
  },
  {
   "cell_type": "code",
   "execution_count": 7,
   "metadata": {},
   "outputs": [
    {
     "data": {
      "text/plain": [
       "Index(['Type', 'Name', 'Request Count', 'Failure Count',\n",
       "       'Median Response Time', 'Average Response Time', 'Min Response Time',\n",
       "       'Max Response Time', 'Average Content Size', 'Requests/s', 'Failures/s',\n",
       "       '50%', '66%', '75%', '80%', '90%', '95%', '98%', '99%', '99.9%',\n",
       "       '99.99%', '100%'],\n",
       "      dtype='object')"
      ]
     },
     "execution_count": 7,
     "metadata": {},
     "output_type": "execute_result"
    }
   ],
   "source": [
    "# Load low intensity short duration test data\n",
    "low_short_df = pd.read_csv('./locsut_test_result/low-intensity-short_stats.csv')\n",
    "\n",
    "# low_short_df.describe\n",
    "\n",
    "low_short_df.columns"
   ]
  }
 ],
 "metadata": {
  "kernelspec": {
   "display_name": "myenv",
   "language": "python",
   "name": "python3"
  },
  "language_info": {
   "codemirror_mode": {
    "name": "ipython",
    "version": 3
   },
   "file_extension": ".py",
   "mimetype": "text/x-python",
   "name": "python",
   "nbconvert_exporter": "python",
   "pygments_lexer": "ipython3",
   "version": "3.8.18"
  }
 },
 "nbformat": 4,
 "nbformat_minor": 2
}
